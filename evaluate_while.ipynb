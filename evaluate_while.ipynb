{
  "nbformat": 4,
  "nbformat_minor": 0,
  "metadata": {
    "colab": {
      "provenance": []
    },
    "kernelspec": {
      "name": "python3",
      "display_name": "Python 3"
    },
    "language_info": {
      "name": "python"
    }
  },
  "cells": [
    {
      "cell_type": "code",
      "execution_count": 24,
      "metadata": {
        "id": "UFgInkZhL7Ds"
      },
      "outputs": [],
      "source": [
        "def evaluate_while(condition, body, *args, **kwargs):\n",
        "    print(\"Entering the while loop\")\n",
        "    if condition(*args, **kwargs):\n",
        "        body(*args, **kwargs)\n",
        "        print(f\"A step in the while loop\")\n",
        "        # Recursive call to evaluate_while with potentially updated arguments\n",
        "        evaluate_while(condition, body, *args, **kwargs)\n",
        "    else:\n",
        "        print(\"Exiting the while loop\")"
      ]
    },
    {
      "cell_type": "code",
      "source": [
        "[\"test\",\"x,y\",\"0,0\",\"x<y\", \"x -= 1 y+=1\" ]"
      ],
      "metadata": {
        "id": "Nqyqj3ICQMn3"
      },
      "execution_count": null,
      "outputs": []
    },
    {
      "cell_type": "code",
      "source": [
        "# Example usage\n",
        "counter = 10\n",
        "\n",
        "def condition():\n",
        "    return counter > 0\n",
        "\n",
        "def loop_body():\n",
        "    global counter\n",
        "    counter -= 1\n",
        "\n",
        "evaluate_while(condition, loop_body)"
      ],
      "metadata": {
        "colab": {
          "base_uri": "https://localhost:8080/"
        },
        "id": "px51iNN_MB4B",
        "outputId": "e516e296-731d-41f5-ddcf-b699763796eb"
      },
      "execution_count": 25,
      "outputs": [
        {
          "output_type": "stream",
          "name": "stdout",
          "text": [
            "Entering the while loop\n",
            "A step in the while loop\n",
            "Entering the while loop\n",
            "A step in the while loop\n",
            "Entering the while loop\n",
            "A step in the while loop\n",
            "Entering the while loop\n",
            "A step in the while loop\n",
            "Entering the while loop\n",
            "A step in the while loop\n",
            "Entering the while loop\n",
            "A step in the while loop\n",
            "Entering the while loop\n",
            "A step in the while loop\n",
            "Entering the while loop\n",
            "A step in the while loop\n",
            "Entering the while loop\n",
            "A step in the while loop\n",
            "Entering the while loop\n",
            "A step in the while loop\n",
            "Entering the while loop\n",
            "Exiting the while loop\n"
          ]
        }
      ]
    },
    {
      "cell_type": "code",
      "source": [],
      "metadata": {
        "colab": {
          "base_uri": "https://localhost:8080/"
        },
        "id": "KnIDqWc_PGj0",
        "outputId": "51281a81-37a7-4222-e61e-3c35d5a9a5fc"
      },
      "execution_count": 31,
      "outputs": [
        {
          "output_type": "stream",
          "name": "stdout",
          "text": [
            "False\n"
          ]
        }
      ]
    },
    {
      "cell_type": "code",
      "source": [
        "n = 5\n",
        "total_sum = 10\n",
        "\n",
        "def condition():\n",
        "    return n > 0\n",
        "\n",
        "def sum_body():\n",
        "    global n, total_sum\n",
        "    total_sum += n\n",
        "    n -= 1\n",
        "\n",
        "evaluate_while(condition, sum_body)\n",
        "print(f\"Sum of numbers from 1 to 5: {total_sum}\")"
      ],
      "metadata": {
        "colab": {
          "base_uri": "https://localhost:8080/"
        },
        "id": "mubOg3J_MQL3",
        "outputId": "4aecb621-5030-46d0-eff5-0756dca20995"
      },
      "execution_count": 26,
      "outputs": [
        {
          "output_type": "stream",
          "name": "stdout",
          "text": [
            "Entering the while loop\n",
            "A step in the while loop\n",
            "Entering the while loop\n",
            "A step in the while loop\n",
            "Entering the while loop\n",
            "A step in the while loop\n",
            "Entering the while loop\n",
            "A step in the while loop\n",
            "Entering the while loop\n",
            "A step in the while loop\n",
            "Entering the while loop\n",
            "Exiting the while loop\n",
            "Sum of numbers from 1 to 5: 25\n"
          ]
        }
      ]
    },
    {
      "cell_type": "markdown",
      "source": [
        "# Abstract"
      ],
      "metadata": {
        "id": "mR9YSpYxWg_2"
      }
    },
    {
      "cell_type": "code",
      "source": [],
      "metadata": {
        "id": "Z72G0Wk-WhaT"
      },
      "execution_count": null,
      "outputs": []
    },
    {
      "cell_type": "code",
      "source": [
        "def run_script(input_data):\n",
        "    # Unpack the input data\n",
        "    _, var_names, initial_state, condition_str, body_str = input_data\n",
        "\n",
        "    # Split the variable names and initial states into lists and convert states to integers\n",
        "    variables = var_names.split(',')\n",
        "    states = list(map(int, initial_state.split(',')))\n",
        "\n",
        "    # Create a dictionary to hold the variables and their states\n",
        "    state_dict = dict(zip(variables, states))\n",
        "\n",
        "    # Define the condition function that can evaluate the condition string\n",
        "    def condition(state_dict):\n",
        "        return eval(condition_str, {}, state_dict)\n",
        "\n",
        "    # Define the body function that can execute the body string\n",
        "    def body(state_dict, body_str):\n",
        "        # Split body operations on semicolon and execute them one by one\n",
        "        operations = body_str.split(';')\n",
        "        for operation in operations:\n",
        "            exec(operation.strip(), {}, state_dict)\n",
        "        return state_dict\n",
        "\n",
        "    # Recursive evaluate_while function\n",
        "    def evaluate_while(condition, body, state_dict, body_str):\n",
        "        # Check the condition with the current state\n",
        "        if condition(state_dict):\n",
        "            print(f\"Current state: {state_dict}\")\n",
        "            # Execute body to get the new state\n",
        "            new_state_dict = body(state_dict, body_str)\n",
        "            # Recursively call evaluate_while with the new state\n",
        "            evaluate_while(condition, body, new_state_dict, body_str)\n",
        "        else:\n",
        "            print(\"Exiting the while loop\")\n",
        "\n",
        "    # Start the evaluate_while loop\n",
        "    evaluate_while(condition, body, state_dict, body_str)"
      ],
      "metadata": {
        "id": "YM4R6xA0VU3x"
      },
      "execution_count": 66,
      "outputs": []
    },
    {
      "cell_type": "code",
      "source": [
        "# Input data has body operations separated by semicolons as requested\n",
        "input_data = [\n",
        "    \"evaluate_while\",           # Loop type\n",
        "    \"n,total_sum\",              # Variable names\n",
        "    \"5,0\",                      # Initial states\n",
        "    \"n > 0\",                    # Condition string\n",
        "    \"total_sum += n; n -= 1\"    # Body string (operations separated by semicolons)\n",
        "]\n",
        "\n",
        "run_script(input_data)"
      ],
      "metadata": {
        "colab": {
          "base_uri": "https://localhost:8080/"
        },
        "id": "BCCaZdMMVV0d",
        "outputId": "08800bf1-dad2-40c9-9369-b74c00384cc5"
      },
      "execution_count": 64,
      "outputs": [
        {
          "output_type": "stream",
          "name": "stdout",
          "text": [
            "Current state: {'n': 5, 'total_sum': 0}\n",
            "Current state: {'n': 4, 'total_sum': 5}\n",
            "Current state: {'n': 3, 'total_sum': 9}\n",
            "Current state: {'n': 2, 'total_sum': 12}\n",
            "Current state: {'n': 1, 'total_sum': 14}\n",
            "Exiting the while loop\n"
          ]
        }
      ]
    },
    {
      "cell_type": "code",
      "source": [
        "# Example input with corrected initial values\n",
        "input_data = [\"evaluate_while\", \"x,y\", \"10,0\", \"x>y\", \"x-=1; y+=1\"]\n",
        "run_script(input_data)"
      ],
      "metadata": {
        "colab": {
          "base_uri": "https://localhost:8080/"
        },
        "id": "BcCURCbdVZ0M",
        "outputId": "46635af5-3087-4e04-a12a-50faead022fd"
      },
      "execution_count": 63,
      "outputs": [
        {
          "output_type": "stream",
          "name": "stdout",
          "text": [
            "Current state: {'x': 10, 'y': 0}\n",
            "Current state: {'x': 9, 'y': 1}\n",
            "Current state: {'x': 8, 'y': 2}\n",
            "Current state: {'x': 7, 'y': 3}\n",
            "Current state: {'x': 6, 'y': 4}\n",
            "Exiting the while loop\n"
          ]
        }
      ]
    },
    {
      "cell_type": "code",
      "source": [
        "input_data = [\"evaluate_while\", \"n\", \"10\", \"n>0\", \"n-=1\"]\n",
        "run_script(input_data)"
      ],
      "metadata": {
        "colab": {
          "base_uri": "https://localhost:8080/"
        },
        "id": "FVOefbyWVhER",
        "outputId": "87f7d57a-f1f3-432c-ce8f-8347b97fe978"
      },
      "execution_count": 62,
      "outputs": [
        {
          "output_type": "stream",
          "name": "stdout",
          "text": [
            "Current state: {'n': 10}\n",
            "Current state: {'n': 9}\n",
            "Current state: {'n': 8}\n",
            "Current state: {'n': 7}\n",
            "Current state: {'n': 6}\n",
            "Current state: {'n': 5}\n",
            "Current state: {'n': 4}\n",
            "Current state: {'n': 3}\n",
            "Current state: {'n': 2}\n",
            "Current state: {'n': 1}\n",
            "Exiting the while loop\n"
          ]
        }
      ]
    },
    {
      "cell_type": "code",
      "source": [
        "input_data = [\"evaluate_while\", \"n\", \"10\", \"n>2\", \"import random; n = random.randint(0, 10)\"]\n",
        "run_script(input_data)"
      ],
      "metadata": {
        "colab": {
          "base_uri": "https://localhost:8080/"
        },
        "id": "tMz32VBjVtJb",
        "outputId": "4a55455a-1b49-4e8a-c3e9-833bb9acf7d7"
      },
      "execution_count": 70,
      "outputs": [
        {
          "output_type": "stream",
          "name": "stdout",
          "text": [
            "Current state: {'n': 10}\n",
            "Current state: {'n': 5, 'random': <module 'random' from '/usr/lib/python3.10/random.py'>}\n",
            "Current state: {'n': 5, 'random': <module 'random' from '/usr/lib/python3.10/random.py'>}\n",
            "Exiting the while loop\n"
          ]
        }
      ]
    },
    {
      "cell_type": "markdown",
      "source": [
        "# Abstract the Body with Libraries"
      ],
      "metadata": {
        "id": "GqdDay7rXODZ"
      }
    },
    {
      "cell_type": "code",
      "source": [
        "import sys\n",
        "\n",
        "def run_script(input_data):\n",
        "    # Unpack the input data, allowing for an optional library name at the end\n",
        "    loop_type, var_names, initial_state, condition_str, body_str, *libs = input_data\n",
        "\n",
        "    # Attempt to import required libraries if specified\n",
        "    for lib in libs:\n",
        "        try:\n",
        "            globals()[lib] = __import__(lib)\n",
        "        except ImportError as e:\n",
        "            print(f\"Error importing {lib}: {e}\")\n",
        "            print(\"Make sure the library exists and is spelled correctly.\")\n",
        "            # Optionally, you could also attempt to install the library using pip here,\n",
        "            # but this is typically not recommended in a secure execution environment\n",
        "            return\n",
        "\n",
        "    # Split the variable names and initial states into lists and convert states to integers\n",
        "    variables = var_names.split(',')\n",
        "    states = list(map(int, initial_state.split(',')))\n",
        "\n",
        "    # Create a dictionary to hold the variables and their states\n",
        "    state_dict = dict(zip(variables, states))\n",
        "\n",
        "    # Define the condition function that can evaluate the condition string\n",
        "    def condition(state_dict):\n",
        "        return eval(condition_str, globals(), state_dict)\n",
        "\n",
        "    # Define the body function that can execute the body string\n",
        "    def body(state_dict, body_str):\n",
        "        # Execute the body operation\n",
        "        exec(body_str, globals(), state_dict)\n",
        "        return state_dict\n",
        "\n",
        "    # Recursive evaluate_while function\n",
        "    def evaluate_while(condition, body, state_dict, body_str):\n",
        "        # Check the condition with the current state\n",
        "        if condition(state_dict):\n",
        "            print(f\"Current state: {state_dict}\")\n",
        "            # Execute body to get the new state\n",
        "            new_state_dict = body(state_dict, body_str)\n",
        "            # Recursively call evaluate_while with the new state\n",
        "            evaluate_while(condition, body, new_state_dict, body_str)\n",
        "        else:\n",
        "            print(\"Exiting the while loop\")\n",
        "\n",
        "    # Start the evaluate_while loop\n",
        "    evaluate_while(condition, body, state_dict, body_str)"
      ],
      "metadata": {
        "id": "lj-IEB-rXSNl"
      },
      "execution_count": null,
      "outputs": []
    },
    {
      "cell_type": "code",
      "source": [
        "# Example input_data with a library specified at the end\n",
        "input_data = [\"evaluate_while\", \"n\", \"10\", \"n>2\", \"n = random.randint(0, 10)\", \"random\"]\n",
        "run_script(input_data)"
      ],
      "metadata": {
        "colab": {
          "base_uri": "https://localhost:8080/"
        },
        "id": "kuKSapomX1yX",
        "outputId": "64f056d1-6f73-4477-959a-d995ea1c5862"
      },
      "execution_count": 80,
      "outputs": [
        {
          "output_type": "stream",
          "name": "stdout",
          "text": [
            "Current state: {'n': 10}\n",
            "Current state: {'n': 6}\n",
            "Current state: {'n': 10}\n",
            "Current state: {'n': 8}\n",
            "Current state: {'n': 5}\n",
            "Current state: {'n': 5}\n",
            "Current state: {'n': 7}\n",
            "Current state: {'n': 7}\n",
            "Current state: {'n': 5}\n",
            "Exiting the while loop\n"
          ]
        }
      ]
    },
    {
      "cell_type": "code",
      "source": [
        "input_data = [\n",
        "    \"evaluate_while\",\n",
        "    \"n\",\n",
        "    \"5\",\n",
        "    \"n>0\",\n",
        "    \"print(n); time.sleep(1); n -= 1\",  # Using print() to show the countdown and time.sleep() for delay\n",
        "    \"time\"\n",
        "]\n",
        "run_script(input_data)\n"
      ],
      "metadata": {
        "colab": {
          "base_uri": "https://localhost:8080/"
        },
        "id": "h9QGuD44YYPz",
        "outputId": "de27a85d-c6d2-4dc1-89a0-aff6506b5532"
      },
      "execution_count": 81,
      "outputs": [
        {
          "output_type": "stream",
          "name": "stdout",
          "text": [
            "Current state: {'n': 5}\n",
            "5\n",
            "Current state: {'n': 4}\n",
            "4\n",
            "Current state: {'n': 3}\n",
            "3\n",
            "Current state: {'n': 2}\n",
            "2\n",
            "Current state: {'n': 1}\n",
            "1\n",
            "Exiting the while loop\n"
          ]
        }
      ]
    },
    {
      "cell_type": "markdown",
      "source": [
        "# Fake Lib  "
      ],
      "metadata": {
        "id": "tk2oKq73ZDuh"
      }
    },
    {
      "cell_type": "code",
      "source": [
        "import subprocess\n",
        "import sys\n",
        "\n",
        "def run_script(input_data):\n",
        "    # Unpack the input data, allowing for an optional list of libraries at the end\n",
        "    loop_type, var_names, initial_state, condition_str, body_str, *libs = input_data\n",
        "\n",
        "    # Import or install required libraries\n",
        "    for lib in libs:\n",
        "        try:\n",
        "            # Try to import the library\n",
        "            globals()[lib] = __import__(lib)\n",
        "        except ImportError:\n",
        "            # If the library is not found, attempt to install it\n",
        "            try:\n",
        "                subprocess.check_call([sys.executable, \"-m\", \"pip\", \"install\", lib])\n",
        "                # Import the library again after installation\n",
        "                globals()[lib] = __import__(lib)\n",
        "            except subprocess.CalledProcessError as e:\n",
        "                # If installation fails, print the error and exit\n",
        "                print(f\"Failed to install {lib}. Error: {e}\")\n",
        "                return\n",
        "            except ImportError as e:\n",
        "                # If import fails even after installation, print the error and exit\n",
        "                print(f\"Failed to import {lib} even after installation. Error: {e}\")\n",
        "                return\n",
        "\n",
        "    # Split the variable names and initial states into lists and convert states to integers\n",
        "    variables = var_names.split(',')\n",
        "    states = list(map(int, initial_state.split(',')))\n",
        "\n",
        "    # Create a dictionary to hold the variables and their states\n",
        "    state_dict = dict(zip(variables, states))\n",
        "\n",
        "    # Define the condition function that can evaluate the condition string\n",
        "    def condition(state_dict):\n",
        "        return eval(condition_str, globals(), state_dict)\n",
        "\n",
        "    # Define the body function that can execute the body string\n",
        "    def body(state_dict, body_str):\n",
        "        # Execute the body operation\n",
        "        exec(body_str, globals(), state_dict)\n",
        "        return state_dict\n",
        "\n",
        "    # Recursive evaluate_while function\n",
        "    def evaluate_while(condition, body, state_dict, body_str):\n",
        "        # Check the condition with the current state\n",
        "        if condition(state_dict):\n",
        "            print(f\"Current state: {state_dict}\")\n",
        "            # Execute body to get the new state\n",
        "            new_state_dict = body(state_dict, body_str)\n",
        "            # Recursively call evaluate_while with the new state\n",
        "            evaluate_while(condition, body, new_state_dict, body_str)\n",
        "        else:\n",
        "            print(\"Exiting the while loop\")\n",
        "\n",
        "    # Start the evaluate_while loop\n",
        "    evaluate_while(condition, body, state_dict, body_str)\n"
      ],
      "metadata": {
        "id": "m8qgD_VdZDhx"
      },
      "execution_count": 82,
      "outputs": []
    },
    {
      "cell_type": "code",
      "source": [
        "# Example input_data with multiple libraries, one of which will trigger an installation attempt\n",
        "input_data = [\n",
        "    \"evaluate_while\",\n",
        "    \"n\",\n",
        "    \"10\",\n",
        "    \"n > 2\",\n",
        "    \"n = random.randint(0, math.ceil(10))\",\n",
        "    \"random\",\n",
        "    \"math\",\n",
        "    \"fakelib\"  # This library does not exist and will demonstrate the installation fallback\n",
        "]\n",
        "\n",
        "run_script(input_data)"
      ],
      "metadata": {
        "colab": {
          "base_uri": "https://localhost:8080/"
        },
        "id": "h1nOtGFTZKmF",
        "outputId": "bc216cdd-d940-415b-87e0-b5145548752b"
      },
      "execution_count": 83,
      "outputs": [
        {
          "output_type": "stream",
          "name": "stdout",
          "text": [
            "Failed to install fakelib. Error: Command '['/usr/bin/python3', '-m', 'pip', 'install', 'fakelib']' returned non-zero exit status 1.\n"
          ]
        }
      ]
    },
    {
      "cell_type": "code",
      "source": [
        "# Example input_data with multiple libraries, one of which will trigger an installation attempt\n",
        "input_data = [\n",
        "    \"evaluate_while\",\n",
        "    \"n\",\n",
        "    \"10\",\n",
        "    \"n > 2\",\n",
        "    \"n = random.randint(0, math.ceil(10))\",\n",
        "    \"random\",\n",
        "    \"math\",\n",
        "]\n",
        "\n",
        "run_script(input_data)"
      ],
      "metadata": {
        "colab": {
          "base_uri": "https://localhost:8080/"
        },
        "id": "r4aSz1ylZUUR",
        "outputId": "a2c5400e-a0bb-4647-ff46-223ec468c3f2"
      },
      "execution_count": 85,
      "outputs": [
        {
          "output_type": "stream",
          "name": "stdout",
          "text": [
            "Current state: {'n': 10}\n",
            "Current state: {'n': 9}\n",
            "Current state: {'n': 9}\n",
            "Current state: {'n': 7}\n",
            "Exiting the while loop\n"
          ]
        }
      ]
    },
    {
      "cell_type": "markdown",
      "source": [
        "# General Errors"
      ],
      "metadata": {
        "id": "kwKqOgbRZ_fe"
      }
    },
    {
      "cell_type": "code",
      "source": [
        "import sys\n",
        "def run_script(input_data):\n",
        "    # Check if the input data format is correct\n",
        "    if len(input_data) < 5:\n",
        "        print(\"Invalid input: Not enough arguments provided.\")\n",
        "        return\n",
        "\n",
        "    # Unpack the input data, allowing for an optional list of libraries at the end\n",
        "    loop_type, var_names, initial_state, condition_str, body_str, *libs = input_data\n",
        "\n",
        "    # Import required libraries\n",
        "    for lib in libs:\n",
        "        try:\n",
        "            globals()[lib] = __import__(lib)\n",
        "        except ImportError as e:\n",
        "            print(f\"Error importing {lib}: {e}. Make sure the library exists and is spelled correctly.\")\n",
        "            return\n",
        "\n",
        "    # Split the variable names and initial states into lists and convert states to integers\n",
        "    try:\n",
        "        variables = var_names.split(',')\n",
        "        states = list(map(int, initial_state.split(',')))\n",
        "    except ValueError as e:\n",
        "        print(f\"Invalid input: Error converting initial states to integers. {e}\")\n",
        "        return\n",
        "\n",
        "    # Create a dictionary to hold the variables and their states\n",
        "    state_dict = dict(zip(variables, states))\n",
        "\n",
        "    # Define the condition function that can evaluate the condition string\n",
        "    def condition(state_dict):\n",
        "        try:\n",
        "            return eval(condition_str, globals(), state_dict)\n",
        "        except Exception as e:\n",
        "            print(f\"Error evaluating condition '{condition_str}': {e}\")\n",
        "            return False\n",
        "\n",
        "    # Define the body function that can execute the body string\n",
        "    def body(state_dict, body_str):\n",
        "        try:\n",
        "            exec(body_str, globals(), state_dict)\n",
        "        except Exception as e:\n",
        "            print(f\"Error executing body '{body_str}': {e}\")\n",
        "            sys.exit(\"Terminating due to body execution error.\")\n",
        "        return state_dict\n",
        "\n",
        "    # Recursive evaluate_while function\n",
        "    def evaluate_while(condition, body, state_dict, body_str):\n",
        "        try:\n",
        "            if condition(state_dict):\n",
        "                print(f\"Current state: {state_dict}\")\n",
        "                new_state_dict = body(state_dict, body_str)\n",
        "                evaluate_while(condition, body, new_state_dict, body_str)\n",
        "            else:\n",
        "                print(\"Exiting the while loop\")\n",
        "        except Exception as e:\n",
        "            print(f\"Error during loop execution: {e}\")\n",
        "            sys.exit(\"Terminating due to an error during loop execution.\")\n",
        "\n",
        "    # Start the evaluate_while loop\n",
        "    evaluate_while(condition, body, state_dict, body_str)\n"
      ],
      "metadata": {
        "id": "1IdHvpxzaBvx"
      },
      "execution_count": 88,
      "outputs": []
    },
    {
      "cell_type": "code",
      "source": [
        "# Example input_data with a library specified at the end\n",
        "input_data = [\"evaluate_while\", \"n\", \"10\", \"n > 2\", \"n = random.randint(0, 10)\", \"random\"]\n",
        "run_script(input_data)\n"
      ],
      "metadata": {
        "colab": {
          "base_uri": "https://localhost:8080/"
        },
        "id": "cIpR8UYraDEK",
        "outputId": "5015d660-0a2e-4fde-eb7f-1ca3ab4d8423"
      },
      "execution_count": 90,
      "outputs": [
        {
          "output_type": "stream",
          "name": "stdout",
          "text": [
            "Current state: {'n': 10}\n",
            "Current state: {'n': 7}\n",
            "Current state: {'n': 3}\n",
            "Current state: {'n': 7}\n",
            "Current state: {'n': 7}\n",
            "Current state: {'n': 10}\n",
            "Current state: {'n': 5}\n",
            "Current state: {'n': 4}\n",
            "Current state: {'n': 8}\n",
            "Exiting the while loop\n"
          ]
        }
      ]
    },
    {
      "cell_type": "code",
      "source": [
        "# Example input_data with multiple libraries, one of which will trigger an installation attempt\n",
        "input_data = [\n",
        "    \"evaluate_while\",\n",
        "    \"n\",\n",
        "    \"10\",\n",
        "    \"n > 2\",\n",
        "    \"n = random.randint(0, math.ceil(10))\",\n",
        "    \"random\",\n",
        "    \"math\",\n",
        "    \"fakelib\"  # This library does not exist and will demonstrate the installation fallback\n",
        "]\n",
        "\n",
        "run_script(input_data)"
      ],
      "metadata": {
        "colab": {
          "base_uri": "https://localhost:8080/"
        },
        "id": "O-SuPnitaOOr",
        "outputId": "9b16b697-807e-442c-c5fe-5bb071cfcdcc"
      },
      "execution_count": 92,
      "outputs": [
        {
          "output_type": "stream",
          "name": "stdout",
          "text": [
            "Error importing fakelib: No module named 'fakelib'. Make sure the library exists and is spelled correctly.\n"
          ]
        }
      ]
    },
    {
      "cell_type": "code",
      "source": [
        "input_data = [\n",
        "    \"evaluate_while\",\n",
        "    \"n\",\n",
        "    \"5\",\n",
        "    \"n>0\",\n",
        "    \"print(n); time.sleep(1); n -= 1\",  # Using print() to show the countdown and time.sleep() for delay\n",
        "    \"time\"\n",
        "]\n",
        "run_script(input_data)"
      ],
      "metadata": {
        "colab": {
          "base_uri": "https://localhost:8080/"
        },
        "id": "CePnXEdlaVxO",
        "outputId": "c9a651a8-49b6-489d-c3fc-941cdd791841"
      },
      "execution_count": 93,
      "outputs": [
        {
          "output_type": "stream",
          "name": "stdout",
          "text": [
            "Current state: {'n': 5}\n",
            "5\n",
            "Current state: {'n': 4}\n",
            "4\n",
            "Current state: {'n': 3}\n",
            "3\n",
            "Current state: {'n': 2}\n",
            "2\n",
            "Current state: {'n': 1}\n",
            "1\n",
            "Exiting the while loop\n"
          ]
        }
      ]
    },
    {
      "cell_type": "code",
      "source": [
        "# Example input with corrected initial values\n",
        "input_data = [\"evaluate_while\", \"x,y\", \"10,0\", \"x>y\", \"x-=1; y+=1\"]\n",
        "run_script(input_data)"
      ],
      "metadata": {
        "colab": {
          "base_uri": "https://localhost:8080/"
        },
        "id": "LWSXANqiabnu",
        "outputId": "55c32c3d-8943-47a6-9024-5125d19c5f24"
      },
      "execution_count": 94,
      "outputs": [
        {
          "output_type": "stream",
          "name": "stdout",
          "text": [
            "Current state: {'x': 10, 'y': 0}\n",
            "Current state: {'x': 9, 'y': 1}\n",
            "Current state: {'x': 8, 'y': 2}\n",
            "Current state: {'x': 7, 'y': 3}\n",
            "Current state: {'x': 6, 'y': 4}\n",
            "Exiting the while loop\n"
          ]
        }
      ]
    },
    {
      "cell_type": "code",
      "source": [
        "input_data = [\"evaluate_while\", \"n\", \"10\", \"n>0\", \"n-=1\"]\n",
        "run_script(input_data)"
      ],
      "metadata": {
        "colab": {
          "base_uri": "https://localhost:8080/"
        },
        "id": "gSwDBhNhacwX",
        "outputId": "afdce84d-76d2-406e-efea-e8d33793328d"
      },
      "execution_count": 95,
      "outputs": [
        {
          "output_type": "stream",
          "name": "stdout",
          "text": [
            "Current state: {'n': 10}\n",
            "Current state: {'n': 9}\n",
            "Current state: {'n': 8}\n",
            "Current state: {'n': 7}\n",
            "Current state: {'n': 6}\n",
            "Current state: {'n': 5}\n",
            "Current state: {'n': 4}\n",
            "Current state: {'n': 3}\n",
            "Current state: {'n': 2}\n",
            "Current state: {'n': 1}\n",
            "Exiting the while loop\n"
          ]
        }
      ]
    },
    {
      "cell_type": "code",
      "source": [
        "#Invalid Input Length: Missing arguments.\n",
        "input_data = [\"evaluate_while\", \"n\", \"n > 2\", \"n -= 1\"]\n",
        "run_script(input_data)"
      ],
      "metadata": {
        "colab": {
          "base_uri": "https://localhost:8080/"
        },
        "id": "1CR8xsr_ah6V",
        "outputId": "c6d8418a-1016-4da9-adc1-ea08c81b37de"
      },
      "execution_count": 96,
      "outputs": [
        {
          "output_type": "stream",
          "name": "stdout",
          "text": [
            "Invalid input: Not enough arguments provided.\n"
          ]
        }
      ]
    },
    {
      "cell_type": "code",
      "source": [
        "#Import Error: Non-existent library.\n",
        "input_data = [\"evaluate_while\", \"n\", \"10\", \"n > 2\", \"n -= 1\", \"nonexistentlib\"]\n",
        "run_script(input_data)\n"
      ],
      "metadata": {
        "id": "JYL5wlgWalsj"
      },
      "execution_count": null,
      "outputs": []
    },
    {
      "cell_type": "code",
      "source": [
        "#Conversion Error: Initial state is not a number.\n",
        "input_data = [\"evaluate_while\", \"n\", \"ten\", \"n > 2\", \"n -= 1\", \"random\"]\n",
        "run_script(input_data)\n"
      ],
      "metadata": {
        "colab": {
          "base_uri": "https://localhost:8080/"
        },
        "id": "Vk4eM9I1aqSI",
        "outputId": "1dc2c29e-422b-4a54-85fe-b1a8972a4f4a"
      },
      "execution_count": 97,
      "outputs": [
        {
          "output_type": "stream",
          "name": "stdout",
          "text": [
            "Invalid input: Error converting initial states to integers. invalid literal for int() with base 10: 'ten'\n"
          ]
        }
      ]
    },
    {
      "cell_type": "code",
      "source": [
        "#Condition Syntax Error: Syntax error in the condition expression.\n",
        "input_data = [\"evaluate_while\", \"n\", \"10\", \"if n > 2\", \"n -= 1\", \"random\"]\n",
        "run_script(input_data)\n"
      ],
      "metadata": {
        "colab": {
          "base_uri": "https://localhost:8080/"
        },
        "id": "7xCGYW-nat7M",
        "outputId": "a58b1a56-ecb6-43f0-9ab6-5130b556326e"
      },
      "execution_count": 98,
      "outputs": [
        {
          "output_type": "stream",
          "name": "stdout",
          "text": [
            "Error evaluating condition 'if n > 2': invalid syntax (<string>, line 1)\n",
            "Exiting the while loop\n"
          ]
        }
      ]
    },
    {
      "cell_type": "code",
      "source": [
        "#Uninitialized Variable in Condition: Using a variable in the condition that has not been initialized.\n",
        "input_data = [\"evaluate_while\", \"n\", \"10\", \"m > 2\", \"n -= 1\", \"random\"]\n",
        "run_script(input_data)\n",
        "\n"
      ],
      "metadata": {
        "colab": {
          "base_uri": "https://localhost:8080/"
        },
        "id": "x0mkuy6ia7QX",
        "outputId": "2e30809d-8112-4e1e-85ee-b6ab07dd6b38"
      },
      "execution_count": 99,
      "outputs": [
        {
          "output_type": "stream",
          "name": "stdout",
          "text": [
            "Error evaluating condition 'm > 2': name 'm' is not defined\n",
            "Exiting the while loop\n"
          ]
        }
      ]
    },
    {
      "cell_type": "code",
      "source": [
        "# Example input with corrected initial values\n",
        "input_data = [\"evaluate_while\", \"x,y\", \"10\", \"x>y\", \"x-=1; y+=1\"]\n",
        "run_script(input_data)"
      ],
      "metadata": {
        "colab": {
          "base_uri": "https://localhost:8080/"
        },
        "id": "6fJD999Rb_tL",
        "outputId": "da0131db-6a7b-4aef-c544-7f52c7e2d1df"
      },
      "execution_count": 100,
      "outputs": [
        {
          "output_type": "stream",
          "name": "stdout",
          "text": [
            "Error evaluating condition 'x>y': name 'y' is not defined\n",
            "Exiting the while loop\n"
          ]
        }
      ]
    }
  ]
}